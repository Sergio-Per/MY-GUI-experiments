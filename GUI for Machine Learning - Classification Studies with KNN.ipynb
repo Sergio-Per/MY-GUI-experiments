{
 "cells": [
  {
   "cell_type": "code",
   "execution_count": 1,
   "id": "05dc5fae",
   "metadata": {},
   "outputs": [],
   "source": [
    "import ipywidgets as widgets\n",
    "\n",
    "import numpy as np\n",
    "import pandas as pd\n",
    "import matplotlib.pyplot as plt\n",
    "import seaborn as sns\n"
   ]
  },
  {
   "cell_type": "code",
   "execution_count": 62,
   "id": "18efc394",
   "metadata": {},
   "outputs": [],
   "source": [
    "from sklearn import ensemble\n",
    "from sklearn.datasets import make_classification\n",
    "from sklearn.model_selection import train_test_split\n",
    "from sklearn.model_selection import cross_validate\n",
    "from sklearn.ensemble import RandomForestClassifier\n",
    "from sklearn.neighbors import KNeighborsClassifier\n",
    "from matplotlib.colors import ListedColormap\n",
    "from sklearn.inspection import DecisionBoundaryDisplay\n",
    "\n",
    "import ipywidgets as widgets\n",
    "from ipywidgets import GridspecLayout,interact"
   ]
  },
  {
   "cell_type": "code",
   "execution_count": 112,
   "id": "2f2f49e6",
   "metadata": {},
   "outputs": [
    {
     "data": {
      "application/vnd.jupyter.widget-view+json": {
       "model_id": "a8b1a64e1b97446fbdf9d6f3b98b9bb4",
       "version_major": 2,
       "version_minor": 0
      },
      "text/plain": [
       "HBox(children=(VBox(children=(Output(), Label(value='Classification with K-nearest neighbours model'))), HBox(…"
      ]
     },
     "metadata": {},
     "output_type": "display_data"
    }
   ],
   "source": [
    "def fig(N=50, k = 5, classes = 2, sep = 1.0):\n",
    "\n",
    "    X, y = make_classification(\n",
    "        n_samples=N,\n",
    "        n_features=2,\n",
    "        n_informative=2,\n",
    "        n_redundant=0,\n",
    "        n_repeated=0,\n",
    "        n_classes=int(classes),\n",
    "        n_clusters_per_class=1,\n",
    "        hypercube = True,\n",
    "        class_sep = sep,\n",
    "        random_state=42,\n",
    "    )\n",
    "\n",
    "\n",
    "    X_train, X_test, y_train, y_test = train_test_split(X, y, test_size=0.3, random_state=42)\n",
    "\n",
    "    knn = KNeighborsClassifier(n_neighbors=k, weights='uniform', algorithm='auto', leaf_size=30, metric='minkowski')\n",
    "\n",
    "    knn.fit(X_train,y_train)\n",
    "\n",
    "    knn_pred = knn.predict(X_test)\n",
    "\n",
    "    score = knn.score(X_test, y_test)\n",
    "    score\n",
    "\n",
    "    cm = plt.cm.RdBu\n",
    "    cm_bright = plt.cm.Set1\n",
    "\n",
    "    fig,ax = plt.subplots(figsize=(6,5))\n",
    "    knn.fit(X_train, y_train)\n",
    "    score = knn.score(X_test, y_test)\n",
    "    DecisionBoundaryDisplay.from_estimator(knn, X, cmap=cm, grid_resolution = 100, \n",
    "                                           plot_method = 'contourf', alpha=0.7, ax=ax, eps=0.5)\n",
    "\n",
    "    ax.scatter(X_train[:, 0], X_train[:, 1], c=y_train, cmap=cm_bright, s=70)\n",
    "            # Plot the testing points\n",
    "    ax.scatter(X_test[:, 0],X_test[:, 1],c=y_test,cmap=cm_bright,edgecolors=\"k\",alpha=0.5,s=100)\n",
    "    plt.show()\n",
    "\n",
    "\n",
    "    \n",
    "    \n",
    "N = widgets.IntSlider(value=50,min=5,max=500,step=5,description='N points : ',disabled=False,continuous_update=True,\n",
    "                           orientation='vertical', readout=True, readout_format='d')\n",
    "\n",
    "k = widgets.IntSlider(value=5,min=1,max=100,step=2,description='k Neigh : ',disabled=False,continuous_update=True,\n",
    "                           orientation='vertical', readout=True, readout_format='d')\n",
    "\n",
    "nf = widgets.FloatSlider(value=0.5, min=0.0,max=5,step=.1,description='noise : ',disabled=False,continuous_update=True,\n",
    "                           orientation='horizontal', readout=True, readout_format='.3f')\n",
    "\n",
    "sep = widgets.FloatSlider(value=1.0, min=0.1,max=5.0,step=.1,description='separation : ',disabled=False,continuous_update=True,\n",
    "                           orientation='vertical', readout=True, readout_format='.3f')\n",
    "\n",
    "\n",
    "classes = widgets.Dropdown(options=['2', '3','4'], value='2', description='classes:', disabled=False,)\n",
    "\n",
    "\n",
    "\n",
    "\n",
    "caption = widgets.Label(value='Classification with K-nearest neighbours model')\n",
    "\n",
    "\n",
    "out = widgets.interactive_output(fig, { 'N': N, 'k' : k, 'classes' : classes,'sep': sep})\n",
    "\n",
    "box1 = widgets.HBox([N,k, sep, classes])\n",
    "\n",
    "display(widgets.HBox([widgets.VBox([out,caption]),box1]))\n"
   ]
  },
  {
   "cell_type": "code",
   "execution_count": null,
   "id": "491e8b12",
   "metadata": {},
   "outputs": [],
   "source": []
  }
 ],
 "metadata": {
  "kernelspec": {
   "display_name": "Python 3 (ipykernel)",
   "language": "python",
   "name": "python3"
  },
  "language_info": {
   "codemirror_mode": {
    "name": "ipython",
    "version": 3
   },
   "file_extension": ".py",
   "mimetype": "text/x-python",
   "name": "python",
   "nbconvert_exporter": "python",
   "pygments_lexer": "ipython3",
   "version": "3.9.12"
  }
 },
 "nbformat": 4,
 "nbformat_minor": 5
}
