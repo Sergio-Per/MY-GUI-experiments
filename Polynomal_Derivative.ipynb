{
 "cells": [
  {
   "cell_type": "code",
   "execution_count": 111,
   "id": "2324039e-9a87-4a88-917a-dbef48e6b7c3",
   "metadata": {},
   "outputs": [],
   "source": []
  },
  {
   "cell_type": "code",
   "execution_count": 122,
   "id": "76cfbb4b-1407-4d27-a778-d8f643ef97ab",
   "metadata": {},
   "outputs": [
    {
     "data": {
      "application/vnd.jupyter.widget-view+json": {
       "model_id": "6c879c3c6d9d4a6ea905ce72bd055613",
       "version_major": 2,
       "version_minor": 0
      },
      "text/plain": [
       "interactive(children=(FloatSlider(value=-0.17, description='deg 3 coef:', max=0.5, min=-0.5), FloatSlider(valu…"
      ]
     },
     "metadata": {},
     "output_type": "display_data"
    }
   ],
   "source": [
    "def function(x,c0, c1,c2,c3):\n",
    "    return c0*x**3+c1*x**2+c2*x+c3\n",
    "\n",
    "# def derivada():\n",
    "\n",
    "def plots(a=0,b=0,c=0,d=0,point=point):\n",
    "\n",
    "\n",
    "    x=np.linspace(-10,10,200)\n",
    "    \n",
    "    y=function(x,a,b,c,d)\n",
    "    \n",
    "    print('x = ', point)\n",
    "    print('f('+str(point)+')'+ ' =', function(point,a,b,c,d))\n",
    "    \n",
    "    derivative = (function((point + 0.01),a,b,c,d) - function((point - 0.01),a,b,c,d))/(2*0.01)\n",
    "    print('f\\'('+str(point)+')'+ ' =', derivative)\n",
    "    \n",
    "    \n",
    "    fig,ax=plt.subplots(figsize=(10,7))\n",
    "    fig.set_facecolor('lightsteelblue')\n",
    "    ax.set_facecolor('whitesmoke')\n",
    "    ax.set_title('Functions and its Derivative', fontsize=15)\n",
    "    \n",
    "\n",
    "    \n",
    "    ax.grid(True, linestyle='-.', linewidth = 0.5, alpha = .8)\n",
    "    ax.axvline(0,c='black', linewidth = 1)\n",
    "    ax.axhline(0,c='black', linewidth = 1)\n",
    "    \n",
    "    ax.plot(x,y, linewidth = 3, c='blue',label= 'f(x) = '+str(a)+'$x^{3}$'+'+ '+str(b)+'$x^{2}$'+'+ '+str(c)+'$x$'+'+ '+str(d))\n",
    "    ax.scatter(point,function(point,a,b,c,d),s=100,c='red')\n",
    "    \n",
    "    ax.axvline(point,linewidth = 1, linestyle='-.', c='red')\n",
    "    ax.axhline(function(point,a,b,c,d), linewidth = 1, linestyle='-.', c='red')\n",
    "    \n",
    "    ax.plot((point, point+3, point-3), (function(point,a,b,c,d),function(point,a,b,c,d)+3*derivative,\n",
    "                            function(point,a,b,c,d)-3*derivative), linewidth=2, color='r', label='tangent to f(x) at x = '+str(point))\n",
    "    \n",
    "    ax.legend( loc='upper center', shadow=True, fontsize='large')\n",
    "   \n",
    "    \n",
    "a=widgets.FloatSlider(min=-0.5, max=0.5, step=0.1, value=-0.17,description='deg 3 coef:')\n",
    "\n",
    "b=widgets.FloatSlider(min=-1, max=1, step=0.1, value=0.5,description='deg 2 coef:')\n",
    "\n",
    "c=widgets.IntSlider(min=-50, max=50, step=1, value=7,description='lin coef:')\n",
    "\n",
    "d=widgets.IntSlider(min=-20, max=20, step=1, value=5.4,description='coef:')\n",
    "\n",
    "point= widgets.FloatSlider(min=-10, max=10, step=0.01, value=5.5,description='x:') \n",
    "\n",
    "#########################################\n",
    "\n",
    "interact(plots, a=a,b=b,c=c,d=d, point=point);\n",
    "\n",
    "#########################################"
   ]
  },
  {
   "cell_type": "code",
   "execution_count": null,
   "id": "b129f0ab-6e1d-4c3a-a49f-020f7bb0e0dc",
   "metadata": {},
   "outputs": [],
   "source": []
  },
  {
   "cell_type": "code",
   "execution_count": null,
   "id": "1afafed5-9687-4052-bf76-c85fe0704de7",
   "metadata": {},
   "outputs": [],
   "source": []
  }
 ],
 "metadata": {
  "kernelspec": {
   "display_name": "Python 3",
   "language": "python",
   "name": "python3"
  },
  "language_info": {
   "codemirror_mode": {
    "name": "ipython",
    "version": 3
   },
   "file_extension": ".py",
   "mimetype": "text/x-python",
   "name": "python",
   "nbconvert_exporter": "python",
   "pygments_lexer": "ipython3",
   "version": "3.8.8"
  }
 },
 "nbformat": 4,
 "nbformat_minor": 5
}
