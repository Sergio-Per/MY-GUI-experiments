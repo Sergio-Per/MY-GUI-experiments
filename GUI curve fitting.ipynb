{
 "cells": [
  {
   "cell_type": "markdown",
   "id": "ae5cc6ef",
   "metadata": {},
   "source": [
    "# Interactive graphical user interface for curve fitting with Polynomial regression"
   ]
  },
  {
   "cell_type": "markdown",
   "id": "a9ee7d7c",
   "metadata": {},
   "source": [
    "Notebooks come alive when interactive widgets are used. Users can visualize and manipulate their data in intuitive and easy ways. Researchers can easily see how changing inputs to a model impact the results. Scientists can share interactive results with graphical user interfaces that others can play with without seeing code. Exploring, learning, and sharing becomes a fun immersive experience."
   ]
  },
  {
   "cell_type": "code",
   "execution_count": null,
   "id": "6d672442",
   "metadata": {},
   "outputs": [],
   "source": []
  },
  {
   "cell_type": "code",
   "execution_count": 301,
   "id": "0caf1a49",
   "metadata": {},
   "outputs": [],
   "source": [
    "import numpy as np\n",
    "import pandas as pd\n",
    "import matplotlib.pyplot as plt\n",
    "import seaborn as sns\n",
    "\n",
    "import scipy as sp\n",
    "%matplotlib inline"
   ]
  },
  {
   "cell_type": "code",
   "execution_count": 247,
   "id": "a56fb061",
   "metadata": {},
   "outputs": [],
   "source": [
    "from scipy.optimize import curve_fit\n"
   ]
  },
  {
   "cell_type": "code",
   "execution_count": null,
   "id": "ebe37b17",
   "metadata": {},
   "outputs": [],
   "source": []
  },
  {
   "cell_type": "code",
   "execution_count": null,
   "id": "c96fd9f9",
   "metadata": {},
   "outputs": [],
   "source": []
  },
  {
   "cell_type": "code",
   "execution_count": 306,
   "id": "35d5525e",
   "metadata": {},
   "outputs": [],
   "source": [
    "from sklearn.preprocessing import PolynomialFeatures\n",
    "from sklearn.linear_model import LinearRegression , QuantileRegressor\n",
    "\n",
    "from sklearn.metrics import r2_score\n",
    "from sklearn.pipeline import Pipeline\n",
    "from sklearn.metrics import mean_absolute_error, explained_variance_score\n",
    "from sklearn.metrics import mean_squared_error"
   ]
  },
  {
   "cell_type": "code",
   "execution_count": 256,
   "id": "cc310e63",
   "metadata": {},
   "outputs": [],
   "source": [
    "import ipywidgets as widgets\n",
    "from ipywidgets import GridspecLayout,interact"
   ]
  },
  {
   "cell_type": "code",
   "execution_count": null,
   "id": "dff04a70",
   "metadata": {},
   "outputs": [],
   "source": []
  },
  {
   "cell_type": "code",
   "execution_count": 351,
   "id": "908340a2",
   "metadata": {
    "scrolled": false
   },
   "outputs": [
    {
     "data": {
      "application/vnd.jupyter.widget-view+json": {
       "model_id": "30a18bcdf30f4c469b50f70825bb95a1",
       "version_major": 2,
       "version_minor": 0
      },
      "text/plain": [
       "interactive(children=(IntSlider(value=1, description='poly degree : ', max=20), FloatSlider(value=2.0, descrip…"
      ]
     },
     "metadata": {},
     "output_type": "display_data"
    }
   ],
   "source": [
    "\n",
    "def f(x, noise_factor, a):\n",
    "    np.random.seed(0)\n",
    "    noise=noise_factor*np.random.uniform(-1,1,size=len(x))\n",
    "    \n",
    "    return x**2*np.sin(a*np.pi*x)+noise\n",
    "\n",
    "\n",
    "\n",
    "def fig_1(d = 1, nf =1.0, a = 0.5, N=100):\n",
    "    \n",
    "    x=np.random.uniform(-2,4,N)\n",
    "    \n",
    "    xx = np.linspace(-2,4,100)\n",
    "    \n",
    "#    print(x.shape)\n",
    "    y = f(x,nf,a)\n",
    "    \n",
    "    fig, ax = plt.subplots(figsize=(7,5))\n",
    "    ax.set_facecolor('whitesmoke')\n",
    "    fig.set_facecolor('lightsteelblue')\n",
    "    \n",
    "    ax.plot(xx,xx**2*np.sin(a*np.pi*xx))\n",
    "    ax.scatter(x,y, s=50,alpha=0.5)\n",
    "    \n",
    "    model = Pipeline([('poly', PolynomialFeatures(degree=d)),\n",
    "                      ('linear', LinearRegression(fit_intercept=False))])\n",
    "\n",
    "    model = model.fit(x[:, np.newaxis], y)\n",
    "    predictions = model.predict(x[:, np.newaxis])\n",
    "    \n",
    "    mae = mean_absolute_error(y, predictions)\n",
    "    exp_var_score = explained_variance_score(y, predictions)\n",
    "    mse = mean_squared_error(y, predictions)\n",
    "    \n",
    "\n",
    "    \n",
    "    print('mean_absolute_error', round(mae,2))\n",
    "    print('mean_square_error', round(mse,2))\n",
    "    print('explained_variance_score',round(exp_var_score,2))\n",
    "       \n",
    "    ax.plot(xx,model.predict(xx[:, np.newaxis]), c='r', linewidth = 3)\n",
    "#    ax.set_ylim(-10,10)\n",
    "#    ax.set_xlim(-3,5)\n",
    "#    plt.show()\n",
    "\n",
    "    print('poly coeff :', model.named_steps['linear'].coef_)\n",
    "    \n",
    "    \n",
    "N = widgets.IntSlider(value=100,min=5,max=200,step=5,description='N points : ',disabled=False,continuous_update=True,\n",
    "                           orientation='horizontal', readout=True, readout_format='d')\n",
    "\n",
    "d = widgets.IntSlider(value=1,min=0,max=20,step=1,description='poly degree : ',disabled=False,continuous_update=True,\n",
    "                           orientation='horizontal', readout=True, readout_format='d')\n",
    "\n",
    "nf = widgets.FloatSlider(value=2.0, min=0.0,max=20.0,step=.2,description='noise : ',disabled=False,continuous_update=True,\n",
    "                           orientation='horizontal', readout=True, readout_format='.1f')\n",
    "\n",
    "a = widgets.FloatSlider(value=0.3, min=-5.0,max=10.0,step=.2,description='a: ',disabled=False,continuous_update=True,\n",
    "                           orientation='horizontal', readout=True, readout_format='.1f')\n",
    "\n",
    "\n",
    "#x = np.linspace(-50,50,500)\n",
    "\n",
    "interact(fig_1, d = d , nf = nf, a = a, N=N);\n",
    "\n",
    "\n",
    "\n",
    "\n",
    "\n",
    "\n",
    "\n",
    "\n"
   ]
  },
  {
   "cell_type": "code",
   "execution_count": null,
   "id": "b380b78e",
   "metadata": {},
   "outputs": [],
   "source": []
  },
  {
   "cell_type": "code",
   "execution_count": null,
   "id": "e04eb35b",
   "metadata": {},
   "outputs": [],
   "source": []
  },
  {
   "cell_type": "code",
   "execution_count": null,
   "id": "dfddb84d",
   "metadata": {},
   "outputs": [],
   "source": []
  },
  {
   "cell_type": "code",
   "execution_count": null,
   "id": "586a6566",
   "metadata": {},
   "outputs": [],
   "source": []
  },
  {
   "cell_type": "code",
   "execution_count": null,
   "id": "e3f9ff2e",
   "metadata": {},
   "outputs": [],
   "source": []
  }
 ],
 "metadata": {
  "kernelspec": {
   "display_name": "Python 3.9.7 64-bit ('base': conda)",
   "language": "python",
   "name": "python397jvsc74a57bd0a4c6f6dca0b39727a1d31abc575f26c9e9c5e97275968b776bf7d6bafbe246da"
  },
  "language_info": {
   "codemirror_mode": {
    "name": "ipython",
    "version": 3
   },
   "file_extension": ".py",
   "mimetype": "text/x-python",
   "name": "python",
   "nbconvert_exporter": "python",
   "pygments_lexer": "ipython3",
   "version": "3.9.7"
  }
 },
 "nbformat": 4,
 "nbformat_minor": 5
}
